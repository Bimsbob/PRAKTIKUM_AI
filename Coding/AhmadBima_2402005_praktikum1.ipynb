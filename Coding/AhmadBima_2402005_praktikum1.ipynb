{
 "cells": [
  {
   "cell_type": "code",
   "execution_count": null,
   "id": "9dfd69ec-ecb6-43ed-aa76-ebb1bc60eee8",
   "metadata": {},
   "outputs": [],
   "source": [
    "#laporan praktikum python 1\n",
    "Nama  : Ahmad Bima A.F\n",
    "Kelas : TI 3A\n",
    "NIM   : 2402005"
   ]
  },
  {
   "cell_type": "code",
   "execution_count": null,
   "id": "7175cde8-cd98-468e-9815-4044dc4b56fa",
   "metadata": {},
   "outputs": [],
   "source": [
    "#pendahuluan \n",
    "Python merupakan salah satu bahasa pemrograman yang populer karena sintaksnya sederhana, mudah dipahami, dan mendukung berbagai paradigma pemrograman seperti prosedural, berorientasi objek, hingga fungsional. Dalam dunia pendidikan dan industri, Python digunakan untuk pengembangan aplikasi web, analisis data, kecerdasan buatan, serta otomatisasi proses. Praktikum ini dilakukan untuk memberikan pemahaman dasar mengenai konsep pemrograman Python serta penerapannya dalam pembuatan program sederhana."
   ]
  },
  {
   "cell_type": "code",
   "execution_count": null,
   "id": "dd4e0cb5-cedc-445c-9d85-305ab845bfcd",
   "metadata": {},
   "outputs": [],
   "source": [
    "#Tujuan\n",
    "1. Mengenal lingkungan pengembangan (IDE/Interpreter) Python.\n",
    "\n",
    "2. Memahami struktur dasar pemrograman seperti variabel, tipe data, dan operasi aritmatika.\n",
    "\n",
    "3. Melatih keterampilan menulis dan mengeksekusi kode Python.\n",
    "\n",
    "4. Mampu membuat program sederhana sesuai kasus yang diberikan.\n",
    "#Manfaat \n",
    "1. Menguasai dasar sintaks Python.\n",
    "\n",
    "2. Menerapkan konsep pemrograman untuk memecahkan masalah sederhana.\n",
    "\n",
    "3. Menjadi fondasi untuk pembelajaran lanjutan seperti analisis data, machine learning, atau pengembangan aplikasi."
   ]
  },
  {
   "cell_type": "code",
   "execution_count": 2,
   "id": "5372af2f-c3db-40f0-ad9f-259e50499dfc",
   "metadata": {},
   "outputs": [
    {
     "name": "stdout",
     "output_type": "stream",
     "text": [
      "Praktikum algoritma dan pemrograman 1\n",
      "Nama : Ahmad Bima Ahsan Fdholah\n",
      "NIM : 2402005\n",
      "Angkatan : 2024\n",
      "Jurusan : Teknik Informatika\n",
      "Fakultas Teknik\n"
     ]
    }
   ],
   "source": [
    "#Program\n",
    "print (\"Praktikum algoritma dan pemrograman 1\")\n",
    "print (\"Nama : Ahmad Bima Ahsan Fdholah\")\n",
    "print (\"NIM : 2402005\")\n",
    "print (\"Angkatan : 2024\")\n",
    "print (\"Jurusan : Teknik Informatika\")\n",
    "print (\"Fakultas Teknik\")"
   ]
  },
  {
   "cell_type": "code",
   "execution_count": null,
   "id": "d9d0be95-a71d-4bcc-b779-e9d855df8dc3",
   "metadata": {},
   "outputs": [],
   "source": [
    "print(\"Ini Budi\") #mencetak penjelasan Budi\n",
    "perintah ini benar karena syntax nya juga benar dan akan menghasilkan kalimat “Ini Budi”\n",
    "print('Budi bersekolah di SDN 1 MariJoa) #sekolah Budi\n",
    "perintah ini salah karena dalam penulisan syntax python tanda petik harus dua maksudnya di depan satu dan di belakang juga satu lebih tepatnya harus ada pasangannya.\n",
    "prnt(\"Cita - cita ingin menjadi seorang Pilot\") #cita-cita budi\n",
    "perintah ini juga salah karena kode syntaxnya kurang I jika di run hasilnya akan eror.\n"
   ]
  },
  {
   "cell_type": "code",
   "execution_count": null,
   "id": "590781b5-879f-4f2b-80a7-babbb288d107",
   "metadata": {},
   "outputs": [],
   "source": [
    "#Analisis Program dan Kesimpulan\n",
    "    Struktur Kode\n",
    "Baris 1–6: Fungsi print() dipanggil berulang untuk menampilkan informasi praktikum, nama, NIM, angkatan, jurusan, dan fakultas.\n",
    "Tidak ada proses input, perhitungan, atau logika percabangan sehingga program bersifat statik: isi teks akan selalu sama setiap dijalankan.\n",
    "    Eksekusi\n",
    "Ketika dijalankan, Python mengeksekusi setiap baris dari atas ke bawah dan menampilkan teks tepat seperti yang tertulis di dalam tanda kutip.\n",
    "Output akhir berupa enam baris teks yang rapi sesuai urutan.\n",
    "    Kelebihan\n",
    "Sederhana dan mudah dipahami, cocok untuk pemula yang belajar sintaks dasar print().\n",
    "Tidak memerlukan pustaka tambahan atau konfigurasi khusus.\n",
    "    Keterbatasan\n",
    "Informasi tidak dinamis karena tidak menerima masukan dari pengguna.\n",
    "Tidak ada pemrosesan data atau fitur tambahan.\n",
    "    Kesimpulan\n",
    "Program berhasil menampilkan identitas praktikum dengan menggunakan fungsi print() secara berurutan.\n",
    "Sintaks Python yang ringkas memudahkan pembuatan output teks sederhana tanpa pengaturan rumit.\n",
    "Praktikum ini menunjukkan pemahaman dasar tentang cara kerja interpreter Python: membaca kode baris demi baris dan mengeksekusi perintah sesuai urutan.\n",
    "Sebagai pengembangan ke depan, program dapat ditambahkan fitur input (misalnya input()) agar data yang ditampilkan dapat disesuaikan secara dinamis."
   ]
  },
  {
   "cell_type": "code",
   "execution_count": null,
   "id": "c41ea3b6-3b79-4900-ae1f-4794d4ee0815",
   "metadata": {},
   "outputs": [],
   "source": [
    "#Referensi\n",
    "notebooks/modul-1-menjalankan-python.ipynb"
   ]
  }
 ],
 "metadata": {
  "kernelspec": {
   "display_name": "Python 3 (ipykernel)",
   "language": "python",
   "name": "python3"
  },
  "language_info": {
   "codemirror_mode": {
    "name": "ipython",
    "version": 3
   },
   "file_extension": ".py",
   "mimetype": "text/x-python",
   "name": "python",
   "nbconvert_exporter": "python",
   "pygments_lexer": "ipython3",
   "version": "3.10.7"
  }
 },
 "nbformat": 4,
 "nbformat_minor": 5
}
