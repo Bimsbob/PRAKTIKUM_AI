{
 "cells": [
  {
   "cell_type": "code",
   "execution_count": 23,
   "id": "1db66f5f-7b9c-4723-b5bf-a8e91798c3d5",
   "metadata": {},
   "outputs": [
    {
     "name": "stdout",
     "output_type": "stream",
     "text": [
      "Tugas Praktikum 1\n",
      "perkenalkan nama saya Ahmad Bima\n",
      "Nim : 2402005\n",
      "kelas : TI 3A\n",
      "Operasi Penjumlahan\n",
      "penjumlahan 15 + 8 + 100 =  123\n",
      "pengurangan 15 + 8 + 100 =  -93\n",
      "perkalian 15 * 8 * 100 =  12000\n",
      "\n",
      "menghitung luas persegi panjang\n",
      "luas persegi panjang =  1275.0\n",
      "\n",
      "menghitung luas segitiga\n",
      "luas segitiga =  1200.0\n",
      "\n",
      "menghitung luas lingkaran\n",
      "luas lingkaran =  (3, 686)\n"
     ]
    }
   ],
   "source": [
    "print (\"Tugas Praktikum 1\")\n",
    "print (\"perkenalkan nama saya Ahmad Bima\")\n",
    "print (\"Nim : 2402005\")\n",
    "print (\"kelas : TI 3A\")\n",
    "print (\"Operasi Penjumlahan\")\n",
    "print (\"penjumlahan 15 + 8 + 100 = \",15+8+100)\n",
    "print (\"pengurangan 15 + 8 + 100 = \",15-8-100)\n",
    "print (\"perkalian 15 * 8 * 100 = \",15*8*100)\n",
    "print ()\n",
    "print (\"menghitung luas persegi panjang\")\n",
    "panjang = 50\n",
    "lebar = 25.5\n",
    "luas = panjang * lebar\n",
    "print (\"luas persegi panjang = \", luas)\n",
    "print ()\n",
    "print (\"menghitung luas segitiga\")\n",
    "alas = 40\n",
    "tinggi = 60\n",
    "luas_segitiga = 0.5 * alas * tinggi\n",
    "print (\"luas segitiga = \", luas_segitiga)\n",
    "print ()\n",
    "print (\"menghitung luas lingkaran\")\n",
    "jari_1 = 7\n",
    "jari_2 = 7\n",
    "luas_lingkaran = 3,14*7*7\n",
    "print (\"luas lingkaran = \", luas_lingkaran)"
   ]
  },
  {
   "cell_type": "code",
   "execution_count": 28,
   "id": "24f5df4c-6126-46d1-874d-16a810ad652c",
   "metadata": {},
   "outputs": [
    {
     "name": "stdout",
     "output_type": "stream",
     "text": [
      "Praktikum algoritma dan pemrograman 1\n",
      "Nama : Ahmad Bima Ahsan Fdholah\n",
      "NIM : 2402005\n",
      "Angkatan : 2024\n",
      "Jurusan : Teknik Informatika\n",
      "Fakultas Teknik\n"
     ]
    }
   ],
   "source": [
    "print (\"Praktikum algoritma dan pemrograman 1\")\n",
    "print (\"Nama : Ahmad Bima Ahsan Fdholah\")\n",
    "print (\"NIM : 2402005\")\n",
    "print (\"Angkatan : 2024\")\n",
    "print (\"Jurusan : Teknik Informatika\")\n",
    "print (\"Fakultas Teknik\")"
   ]
  },
  {
   "cell_type": "code",
   "execution_count": 1,
   "id": "1e159b7e-9ff2-42cc-9b9f-f4e83f8654ba",
   "metadata": {},
   "outputs": [
    {
     "ename": "SyntaxError",
     "evalue": "invalid syntax (3132183142.py, line 1)",
     "output_type": "error",
     "traceback": [
      "\u001b[1;36m  Cell \u001b[1;32mIn[1], line 1\u001b[1;36m\u001b[0m\n\u001b[1;33m    <?php\u001b[0m\n\u001b[1;37m    ^\u001b[0m\n\u001b[1;31mSyntaxError\u001b[0m\u001b[1;31m:\u001b[0m invalid syntax\n"
     ]
    }
   ],
   "source": [
    "<?php\n",
    "echo (\"hello\")\n",
    "?>"
   ]
  },
  {
   "cell_type": "code",
   "execution_count": 10,
   "id": "55867816-2281-4538-833e-80c11687c531",
   "metadata": {},
   "outputs": [
    {
     "name": "stdout",
     "output_type": "stream",
     "text": [
      "menghitung luas persegi\n",
      "luas persegi =  400\n",
      "\n",
      "menghitung luas persegi panjang\n",
      "luas persegi panjang =  1275.0\n",
      "\n",
      "menghitung luas segitiga\n",
      "luas segitiga =  1200.0\n",
      "\n",
      "menghitung luas lingkaran\n",
      "luas lingkaran =  (3, 686)\n",
      "\n",
      "menghitung luas trapesium\n",
      "luas trapesium =  (1, 200)\n",
      "\n"
     ]
    }
   ],
   "source": [
    "print (\"menghitung luas persegi\")\n",
    "sisi= 20\n",
    "luas = sisi * sisi\n",
    "print (\"luas persegi = \", luas)\n",
    "print ()\n",
    "print (\"menghitung luas persegi panjang\")\n",
    "panjang = 50\n",
    "lebar = 25.5\n",
    "luas = panjang * lebar\n",
    "print (\"luas persegi panjang = \", luas)\n",
    "print ()\n",
    "print (\"menghitung luas segitiga\")\n",
    "alas = 40\n",
    "tinggi = 60\n",
    "luas_segitiga = 0.5 * alas * tinggi\n",
    "print (\"luas segitiga = \", luas_segitiga)\n",
    "print ()\n",
    "print (\"menghitung luas lingkaran\")\n",
    "jari_1 = 7\n",
    "jari_2 = 7\n",
    "luas_lingkaran = 3,14*7*7\n",
    "print (\"luas lingkaran = \", luas_lingkaran)\n",
    "print ()\n",
    "print (\"menghitung luas trapesium\")\n",
    "alas1 = 5\n",
    "alas2 = 5\n",
    "tinggi = 10\n",
    "luas_trapesium = 1,2*(alas1+alas2)*tinggi\n",
    "print (\"luas trapesium = \", luas_trapesium)\n",
    "print ()"
   ]
  },
  {
   "cell_type": "code",
   "execution_count": 8,
   "id": "13ea7e26-8b9d-46c5-abac-92e2e459bf82",
   "metadata": {},
   "outputs": [
    {
     "name": "stdout",
     "output_type": "stream",
     "text": [
      "a & b = 0\n",
      "a | b = 13\n",
      "~a = -10\n",
      "a ^ b = 13\n"
     ]
    }
   ],
   "source": [
    "a = 9   \n",
    "b = 4  \n",
    "print(\"a & b =\", a & b)  \n",
    "print(\"a | b =\", a | b)   \n",
    "print(\"~a =\", ~a)         \n",
    "print(\"a ^ b =\", a ^ b)  \n"
   ]
  },
  {
   "cell_type": "code",
   "execution_count": 9,
   "id": "0501b460-925d-4615-ae2a-5fb66cdf163d",
   "metadata": {},
   "outputs": [
    {
     "name": "stdout",
     "output_type": "stream",
     "text": [
      "Operasi Penjumlahan\n",
      "penjumlahan 15 + 8 + 100 =  123\n",
      "pengurangan 15 + 8 + 100 =  -93\n",
      "perkalian 15 * 8 * 100 =  12000\n",
      "\n"
     ]
    }
   ],
   "source": [
    "print (\"Operasi Penjumlahan\")\n",
    "print (\"penjumlahan 15 + 8 + 100 = \",15+8+100)\n",
    "print (\"pengurangan 15 + 8 + 100 = \",15-8-100)\n",
    "print (\"perkalian 15 * 8 * 100 = \",15*8*100)\n",
    "print ()"
   ]
  },
  {
   "cell_type": "code",
   "execution_count": 2,
   "id": "77f8ba0d-222f-4d42-b02f-98d2ed25c8e4",
   "metadata": {},
   "outputs": [
    {
     "name": "stdin",
     "output_type": "stream",
     "text": [
      "input sampai bilangan :  70\n"
     ]
    },
    {
     "name": "stdout",
     "output_type": "stream",
     "text": [
      "0 1 2 3 4 5 6 7 8 9 10 11 12 13 14 15 16 17 18 19 20 21 22 23 24 25 26 27 28 29 30 31 32 33 34 35 36 37 38 39 40 41 42 43 44 45 46 47 48 49 50 51 52 53 54 55 56 57 58 59 60 61 62 63 64 65 66 67 68 69 70 "
     ]
    }
   ],
   "source": [
    "nilai_akhir = int (input(\"input sampai bilangan : \"))\n",
    "for i in range (nilai_akhir+1):\n",
    "    print (i,end=\" \")"
   ]
  },
  {
   "cell_type": "code",
   "execution_count": 3,
   "id": "ef4a09f9-a36d-48b5-88a6-724b2f997993",
   "metadata": {},
   "outputs": [
    {
     "name": "stdout",
     "output_type": "stream",
     "text": [
      "0 1 2 3 4 5 6 7 8 9 10 11 12 13 14 15 16 17 18 19 20 21 22 23 24 25 26 27 28 29 30 31 32 33 34 35 36 37 38 39 40 41 42 43 44 45 46 47 48 49 50 51 52 53 54 55 56 57 58 59 60 61 62 63 64 65 66 67 68 69 70 71 72 73 74 75 76 77 78 79 80 81 82 83 84 85 86 87 88 89 90 91 92 93 94 95 96 97 98 99 100 "
     ]
    }
   ],
   "source": [
    "for i in range(101):\n",
    "    print(i,end=\" \")"
   ]
  },
  {
   "cell_type": "code",
   "execution_count": 36,
   "id": "658592ee-013d-4286-ac4d-c8203187bc6f",
   "metadata": {},
   "outputs": [
    {
     "name": "stdout",
     "output_type": "stream",
     "text": [
      "matrik a = \n",
      "[1, 2, 3]\n",
      "[4, 5, 6]\n",
      "[7, 8, 9]\n",
      "\n",
      "matrik b = \n",
      "[9, 8, 7]\n",
      "[4, 5, 6]\n",
      "[7, 8, 9]\n",
      "\n",
      "Hasil penjumlahan dua matriks:\n",
      "[10, 10, 10]\n",
      "[10, 10, 10]\n",
      "[10, 10, 10]\n"
     ]
    }
   ],
   "source": [
    "print (\"matrik a = \")\n",
    "print (\"[1, 2, 3]\")\n",
    "print (\"[4, 5, 6]\")\n",
    "print (\"[7, 8, 9]\")\n",
    "print ()\n",
    "print (\"matrik b = \")\n",
    "print (\"[9, 8, 7]\")\n",
    "print (\"[4, 5, 6]\")\n",
    "print (\"[7, 8, 9]\")\n",
    "print ()\n",
    "matriks1 = [\n",
    "    [1, 2, 3],\n",
    "    [4, 5, 6],\n",
    "    [7, 8, 9]]\n",
    "matriks2 = [\n",
    "    [9, 8, 7],\n",
    "    [6, 5, 4],\n",
    "    [3, 2, 1]]\n",
    "hasil = []\n",
    "for i in range(len(matriks1)):\n",
    "    baris = []\n",
    "    for j in range(len(matriks1[0])):\n",
    "        baris.append(matriks1[i][j] + matriks2[i][j])\n",
    "    hasil.append(baris)\n",
    "\n",
    "print(\"Hasil penjumlahan dua matriks:\")\n",
    "for r in hasil:\n",
    "    print(r)\n"
   ]
  },
  {
   "cell_type": "code",
   "execution_count": 28,
   "id": "cb50e067-0290-4f46-90da-3778dd04a8b4",
   "metadata": {},
   "outputs": [
    {
     "name": "stdin",
     "output_type": "stream",
     "text": [
      "Masukkan harga barang:  10000\n",
      "Masukkan jumlah barang:  3\n"
     ]
    },
    {
     "name": "stdout",
     "output_type": "stream",
     "text": [
      "\n",
      "===================================\n",
      "Total seluruh pembelian:  30000\n",
      "===================================\n"
     ]
    }
   ],
   "source": [
    "    harga = int(input(\"Masukkan harga barang: \"))\n",
    "    jumlah = int(input(\"Masukkan jumlah barang: \"))\n",
    "    \n",
    "    subtotal = harga * jumlah\n",
    "print(\"\\n===================================\")\n",
    "print(\"Total seluruh pembelian: \", subtotal)\n",
    "print(\"===================================\")\n"
   ]
  },
  {
   "cell_type": "code",
   "execution_count": 30,
   "id": "9bb7404f-2b06-40d8-b2d0-ed9df7ff850b",
   "metadata": {},
   "outputs": [
    {
     "name": "stdin",
     "output_type": "stream",
     "text": [
      "Masukkan banyaknya bilangan:  7\n",
      "Masukkan bilangan ke-1:  24\n",
      "Masukkan bilangan ke-2:  13\n",
      "Masukkan bilangan ke-3:  25\n",
      "Masukkan bilangan ke-4:  17\n",
      "Masukkan bilangan ke-5:  76\n",
      "Masukkan bilangan ke-6:  39\n",
      "Masukkan bilangan ke-7:  60\n"
     ]
    },
    {
     "name": "stdout",
     "output_type": "stream",
     "text": [
      "\n",
      "==============================\n",
      "Jumlah bilangan genap  : 3\n",
      "Jumlah bilangan ganjil : 4\n",
      "==============================\n"
     ]
    }
   ],
   "source": [
    "n = int(input(\"Masukkan banyaknya bilangan: \"))\n",
    "genap = 0\n",
    "ganjil = 0\n",
    "for i in range(1, n + 1):\n",
    "    bilangan = int(input(f\"Masukkan bilangan ke-{i}: \"))\n",
    "    if bilangan % 2 == 0:\n",
    "        genap += 1\n",
    "    else:\n",
    "        ganjil += 1\n",
    "\n",
    "print(\"\\n==============================\")\n",
    "print(f\"Jumlah bilangan genap  : {genap}\")\n",
    "print(f\"Jumlah bilangan ganjil : {ganjil}\")\n",
    "print(\"==============================\")\n"
   ]
  },
  {
   "cell_type": "code",
   "execution_count": 32,
   "id": "2a4cfe14-f2f4-497c-b34b-adb6c8d9314d",
   "metadata": {},
   "outputs": [
    {
     "name": "stdin",
     "output_type": "stream",
     "text": [
      "Masukkan bilangan awal:  2\n",
      "Masukkan bilangan akhir:  6\n"
     ]
    },
    {
     "name": "stdout",
     "output_type": "stream",
     "text": [
      "\n",
      "Bilangan kelipatan 3 antara 2 dan 6 adalah:\n",
      "3 6 "
     ]
    }
   ],
   "source": [
    "awal = int(input(\"Masukkan bilangan awal: \"))\n",
    "akhir = int(input(\"Masukkan bilangan akhir: \"))\n",
    "\n",
    "print(f\"\\nBilangan kelipatan 3 antara {awal} dan {akhir} adalah:\")\n",
    "\n",
    "for i in range(awal, akhir + 1):\n",
    "    if i % 3 == 0:\n",
    "        print(i, end=\" \")\n"
   ]
  },
  {
   "cell_type": "code",
   "execution_count": 33,
   "id": "47097f11-a81c-4961-a131-8581872fe1f2",
   "metadata": {},
   "outputs": [
    {
     "name": "stdin",
     "output_type": "stream",
     "text": [
      "Bilangan :  10\n"
     ]
    },
    {
     "name": "stdout",
     "output_type": "stream",
     "text": [
      "1\n",
      "12\n",
      "123\n",
      "1234\n",
      "12345\n",
      "123456\n",
      "1234567\n",
      "12345678\n",
      "123456789\n",
      "12345678910\n"
     ]
    }
   ],
   "source": [
    "n = int(input(\"Bilangan : \"))\n",
    "for i in range(1, n + 1):\n",
    "    for j in range(1, i + 1):\n",
    "        print(j, end=\"\")\n",
    "    print() \n"
   ]
  },
  {
   "cell_type": "code",
   "execution_count": 35,
   "id": "393b9f1c-e016-4ca9-ad7c-f556545ba785",
   "metadata": {},
   "outputs": [
    {
     "name": "stdin",
     "output_type": "stream",
     "text": [
      "Masukkan jumlah mahasiswa:  2\n"
     ]
    },
    {
     "name": "stdout",
     "output_type": "stream",
     "text": [
      "\n",
      "No.\tNama Mhs\tN.Tugas\tN.Kuis\tN.UTS\tN.UAS\tNilai Akhir\n",
      "\n",
      "Data Mahasiswa ke-1\n"
     ]
    },
    {
     "name": "stdin",
     "output_type": "stream",
     "text": [
      "Nama Mahasiswa :  Bima\n",
      "Nilai Tugas  :  90\n",
      "Nilai Kuis   :  87\n",
      "Nilai UTS    :  90\n",
      "Nilai UAS    :  95\n"
     ]
    },
    {
     "name": "stdout",
     "output_type": "stream",
     "text": [
      "1\tBima\t90.0\t87.0\t90.0\t95.0\t91.70\n",
      "\n",
      "Data Mahasiswa ke-2\n"
     ]
    },
    {
     "name": "stdin",
     "output_type": "stream",
     "text": [
      "Nama Mahasiswa :  Nopin\n",
      "Nilai Tugas  :  90\n",
      "Nilai Kuis   :  87\n",
      "Nilai UTS    :  90\n",
      "Nilai UAS    :  95\n"
     ]
    },
    {
     "name": "stdout",
     "output_type": "stream",
     "text": [
      "2\tNopin\t90.0\t87.0\t90.0\t95.0\t91.70\n"
     ]
    }
   ],
   "source": [
    "n = int(input(\"Masukkan jumlah mahasiswa: \"))\n",
    "\n",
    "print(\"\\nNo.\\tNama Mhs\\tN.Tugas\\tN.Kuis\\tN.UTS\\tN.UAS\\tNilai Akhir\")\n",
    "\n",
    "\n",
    "for i in range(1, n + 1):\n",
    "    print(f\"\\nData Mahasiswa ke-{i}\")\n",
    "    nama = input(\"Nama Mahasiswa : \")\n",
    "    tugas = float(input(\"Nilai Tugas  : \"))\n",
    "    kuis = float(input(\"Nilai Kuis   : \"))\n",
    "    uts = float(input(\"Nilai UTS    : \"))\n",
    "    uas = float(input(\"Nilai UAS    : \"))\n",
    "\n",
    "    \n",
    "    nilai_akhir = (0.2 * tugas) + (0.1 * kuis) + (0.3 * uts) + (0.4 * uas)\n",
    "\n",
    "   \n",
    "    print(f\"{i}\\t{nama}\\t{tugas:.1f}\\t{kuis:.1f}\\t{uts:.1f}\\t{uas:.1f}\\t{nilai_akhir:.2f}\")\n"
   ]
  },
  {
   "cell_type": "code",
   "execution_count": null,
   "id": "20a0fc4a-34f7-41b8-966b-4cda99462854",
   "metadata": {},
   "outputs": [],
   "source": []
  }
 ],
 "metadata": {
  "kernelspec": {
   "display_name": "Python 3 (ipykernel)",
   "language": "python",
   "name": "python3"
  },
  "language_info": {
   "codemirror_mode": {
    "name": "ipython",
    "version": 3
   },
   "file_extension": ".py",
   "mimetype": "text/x-python",
   "name": "python",
   "nbconvert_exporter": "python",
   "pygments_lexer": "ipython3",
   "version": "3.10.7"
  }
 },
 "nbformat": 4,
 "nbformat_minor": 5
}
