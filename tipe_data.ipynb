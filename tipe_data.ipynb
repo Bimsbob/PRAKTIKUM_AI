{
 "cells": [
  {
   "cell_type": "code",
   "execution_count": 11,
   "id": "bf473b19-f5af-4c5b-9c69-7371fc300778",
   "metadata": {},
   "outputs": [
    {
     "name": "stdout",
     "output_type": "stream",
     "text": [
      "praktikum Algoritma dan Pemrograman 1 - Variable dan Tipe Data false\n",
      "<class 'bool'>\n",
      "ini adalah tulisan berupa string\n",
      "100\n",
      "0.001\n",
      "bilangan desimal dari 0x01 adalah 1\n",
      "10\n",
      "<class 'complex'>\n",
      "(2+6j)\n",
      "<class 'complex'>\n",
      "[96, 97, 98, 99, 100]\n",
      "['seratus', 'dua ratus', 'tiga ratus']\n",
      "{'nama': 'bima', 'umur': 18}\n"
     ]
    }
   ],
   "source": [
    "# tipe data String\n",
    "print (\"praktikum Algoritma dan Pemrograman 1 - Variable dan Tipe Data false\")\n",
    "print (\"<class 'bool'>\")\n",
    "print (\"ini adalah tulisan berupa string\")\n",
    "# tipe data Integer\n",
    "print (100)\n",
    "# tipe data Float\n",
    "print (0.001)\n",
    "print (\"bilangan desimal dari 0x01 adalah 1\")\n",
    "print (10)\n",
    "print (\"<class 'complex'>\")\n",
    "print ((2+6j))\n",
    "print (\"<class 'complex'>\")\n",
    "#tipe data List\n",
    "print ([96, 97, 98, 99, 100])\n",
    "print (['seratus', 'dua ratus', 'tiga ratus'])\n",
    "# tipe data Dictionary dimasukan ke dalam variabel biodata\n",
    "print ({'nama': 'bima', 'umur': 18})"
   ]
  },
  {
   "cell_type": "code",
   "execution_count": null,
   "id": "ca4a6fee-45b8-48fd-a8d2-6dbd5d461ba0",
   "metadata": {},
   "outputs": [],
   "source": []
  }
 ],
 "metadata": {
  "kernelspec": {
   "display_name": "Python 3 (ipykernel)",
   "language": "python",
   "name": "python3"
  },
  "language_info": {
   "codemirror_mode": {
    "name": "ipython",
    "version": 3
   },
   "file_extension": ".py",
   "mimetype": "text/x-python",
   "name": "python",
   "nbconvert_exporter": "python",
   "pygments_lexer": "ipython3",
   "version": "3.10.7"
  }
 },
 "nbformat": 4,
 "nbformat_minor": 5
}
