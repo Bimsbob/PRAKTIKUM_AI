{
 "cells": [
  {
   "cell_type": "code",
   "execution_count": 18,
   "id": "9765ad08-4c87-44cd-aec8-be6d51ce2ce9",
   "metadata": {},
   "outputs": [
    {
     "name": "stdin",
     "output_type": "stream",
     "text": [
      "Nama :  BIMA\n",
      "Alamat :  TEGAL\n",
      "Umur :  19\n",
      "Tempat Lahir :  TEGAL\n",
      "Tanggal lahir :  07-04-2006\n",
      "IPK :  3,43\n"
     ]
    },
    {
     "name": "stdout",
     "output_type": "stream",
     "text": [
      "Nama  BIMA\n",
      "Alamat  TEGAL\n",
      "Umur  19\n",
      "Tanggal Lahir  TEGAL\n",
      "IPK  3,43\n"
     ]
    }
   ],
   "source": [
    "nama = input(\"Nama : \");\n",
    "alamat = input(\"Alamat : \");\n",
    "umur = input(\"Umur : \");\n",
    "TL = input(\"Tempat Lahir : \");\n",
    "Tgl = input(\"Tanggal lahir : \");\n",
    "Ipk = input(\"IPK : \");\n",
    "print(\"Nama \",nama);\n",
    "print(\"Alamat \",alamat);\n",
    "print(\"Umur \",umur);\n",
    "print(\"Tanggal Lahir \",TL);\n",
    "print(\"IPK \",Ipk);"
   ]
  },
  {
   "cell_type": "code",
   "execution_count": 19,
   "id": "a57c6e68-afb0-4946-b7f8-9cb2c0fb03f8",
   "metadata": {},
   "outputs": [
    {
     "name": "stdin",
     "output_type": "stream",
     "text": [
      "x1 : 1\n",
      "x2 : 2\n",
      "x3 : 3\n",
      "x4 : 4\n"
     ]
    },
    {
     "name": "stdout",
     "output_type": "stream",
     "text": [
      "jumlah semua bilangan =  10\n",
      "kali seua bilangan =  24\n",
      "jika ditambah 0,5 =  (10, 5)\n",
      "jika dikali 0,5 =  (0, 5)\n"
     ]
    }
   ],
   "source": [
    "x1 = eval(input(\"x1 :\" ));\n",
    "x2 = eval(input(\"x2 :\"));\n",
    "x3 = eval(input(\"x3 :\"));\n",
    "x4 = eval(input(\"x4 :\"));\n",
    "jumlah=x1+x2+x3+x4\n",
    "kali=x1*x2*x3*x4\n",
    "print(\"jumlah semua bilangan = \",jumlah);\n",
    "print (\"kali seua bilangan = \",kali);\n",
    "jumlah = jumlah + 0,5\n",
    "print (\"jika ditambah 0,5 = \",jumlah);\n",
    "kali = kali*0,5\n",
    "print (\"jika dikali 0,5 = \",kali);"
   ]
  },
  {
   "cell_type": "code",
   "execution_count": 20,
   "id": "322ad340-2024-41cb-822d-8ae22a98c09d",
   "metadata": {},
   "outputs": [
    {
     "name": "stdin",
     "output_type": "stream",
     "text": [
      "kode barang =  2345\n",
      "nama barang =  TEPUNG\n",
      "harga satuan barang =Rp.  4000\n",
      "jumlah barang yang di beli= 3\n"
     ]
    },
    {
     "name": "stdout",
     "output_type": "stream",
     "text": [
      "total harga yang di bayar Rp. 12000\n"
     ]
    }
   ],
   "source": [
    "total_harga_barang = 0.0\n",
    "kd_brg=input (\"kode barang = \");\n",
    "nama_brg=input (\"nama barang = \");\n",
    "harga_satuan= eval(input(\"harga satuan barang =Rp. \"));\n",
    "jum_brg =eval(input(\"jumlah barang yang di beli=\"));\n",
    "harga_beli = harga_satuan*jum_brg\n",
    "print (\"total harga yang di bayar Rp.\",harga_beli);\n"
   ]
  },
  {
   "cell_type": "code",
   "execution_count": 21,
   "id": "accd15cc-5fbd-497c-b547-7f8868dc1dbc",
   "metadata": {},
   "outputs": [
    {
     "name": "stdout",
     "output_type": "stream",
     "text": [
      "bilangan pertama x= 5 bilangan kedua y= 10\n",
      "x= 10\n",
      "bilangan terbesar \n"
     ]
    }
   ],
   "source": [
    "x = 5\n",
    "y = 10\n",
    "print(\"bilangan pertama x= %d bilangan kedua y= %d\" %(x,y));\n",
    "if (x>y):\n",
    "    print(\"X=\",x);\n",
    "    print(\"bilangan terbesar \");\n",
    "if (x<y):\n",
    "    print(\"x=\",y);\n",
    "    print(\"bilangan terbesar \");\n",
    "if (x==y):\n",
    "    print(\"bilanaganya sama yaitu \",x);\n"
   ]
  },
  {
   "cell_type": "code",
   "execution_count": null,
   "id": "c1e61ca6-69e2-473e-b3e7-5472c04bb3cb",
   "metadata": {},
   "outputs": [],
   "source": []
  }
 ],
 "metadata": {
  "kernelspec": {
   "display_name": "Python 3 (ipykernel)",
   "language": "python",
   "name": "python3"
  },
  "language_info": {
   "codemirror_mode": {
    "name": "ipython",
    "version": 3
   },
   "file_extension": ".py",
   "mimetype": "text/x-python",
   "name": "python",
   "nbconvert_exporter": "python",
   "pygments_lexer": "ipython3",
   "version": "3.10.7"
  }
 },
 "nbformat": 4,
 "nbformat_minor": 5
}
